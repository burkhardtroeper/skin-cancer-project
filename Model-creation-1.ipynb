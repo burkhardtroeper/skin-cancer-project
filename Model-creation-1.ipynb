{
 "cells": [
  {
   "cell_type": "markdown",
   "metadata": {},
   "source": [
    "# Import section"
   ]
  },
  {
   "cell_type": "code",
   "execution_count": 1,
   "metadata": {},
   "outputs": [],
   "source": [
    "import pandas as pd\n",
    "import numpy as np"
   ]
  },
  {
   "cell_type": "code",
   "execution_count": 41,
   "metadata": {},
   "outputs": [],
   "source": [
    "from sklearn.model_selection import train_test_split\n",
    "from sklearn.preprocessing import StandardScaler"
   ]
  },
  {
   "cell_type": "code",
   "execution_count": 15,
   "metadata": {},
   "outputs": [],
   "source": [
    "import matplotlib.pyplot as plt\n",
    "%matplotlib inline"
   ]
  },
  {
   "cell_type": "code",
   "execution_count": 52,
   "metadata": {},
   "outputs": [],
   "source": [
    "from keras.models import Sequential\n",
    "from keras.layers import Dense, Flatten, Conv2D, MaxPooling2D"
   ]
  },
  {
   "cell_type": "markdown",
   "metadata": {},
   "source": [
    "# Load data"
   ]
  },
  {
   "cell_type": "code",
   "execution_count": 3,
   "metadata": {},
   "outputs": [],
   "source": [
    "df_28 = pd.read_csv('./skin-cancer-mnist-ham10000/hmnist_28_28_L.csv')"
   ]
  },
  {
   "cell_type": "markdown",
   "metadata": {},
   "source": [
    "# Data analysis and prep"
   ]
  },
  {
   "cell_type": "code",
   "execution_count": 4,
   "metadata": {},
   "outputs": [
    {
     "data": {
      "text/plain": [
       "(10015, 785)"
      ]
     },
     "execution_count": 4,
     "metadata": {},
     "output_type": "execute_result"
    }
   ],
   "source": [
    "df_28.shape"
   ]
  },
  {
   "cell_type": "code",
   "execution_count": 5,
   "metadata": {},
   "outputs": [
    {
     "data": {
      "text/html": [
       "<div>\n",
       "<style scoped>\n",
       "    .dataframe tbody tr th:only-of-type {\n",
       "        vertical-align: middle;\n",
       "    }\n",
       "\n",
       "    .dataframe tbody tr th {\n",
       "        vertical-align: top;\n",
       "    }\n",
       "\n",
       "    .dataframe thead th {\n",
       "        text-align: right;\n",
       "    }\n",
       "</style>\n",
       "<table border=\"1\" class=\"dataframe\">\n",
       "  <thead>\n",
       "    <tr style=\"text-align: right;\">\n",
       "      <th></th>\n",
       "      <th>pixel0000</th>\n",
       "      <th>pixel0001</th>\n",
       "      <th>pixel0002</th>\n",
       "      <th>pixel0003</th>\n",
       "      <th>pixel0004</th>\n",
       "      <th>pixel0005</th>\n",
       "      <th>pixel0006</th>\n",
       "      <th>pixel0007</th>\n",
       "      <th>pixel0008</th>\n",
       "      <th>pixel0009</th>\n",
       "      <th>...</th>\n",
       "      <th>pixel0775</th>\n",
       "      <th>pixel0776</th>\n",
       "      <th>pixel0777</th>\n",
       "      <th>pixel0778</th>\n",
       "      <th>pixel0779</th>\n",
       "      <th>pixel0780</th>\n",
       "      <th>pixel0781</th>\n",
       "      <th>pixel0782</th>\n",
       "      <th>pixel0783</th>\n",
       "      <th>label</th>\n",
       "    </tr>\n",
       "  </thead>\n",
       "  <tbody>\n",
       "    <tr>\n",
       "      <th>10010</th>\n",
       "      <td>172</td>\n",
       "      <td>171</td>\n",
       "      <td>173</td>\n",
       "      <td>175</td>\n",
       "      <td>164</td>\n",
       "      <td>187</td>\n",
       "      <td>207</td>\n",
       "      <td>210</td>\n",
       "      <td>208</td>\n",
       "      <td>206</td>\n",
       "      <td>...</td>\n",
       "      <td>210</td>\n",
       "      <td>217</td>\n",
       "      <td>221</td>\n",
       "      <td>209</td>\n",
       "      <td>185</td>\n",
       "      <td>187</td>\n",
       "      <td>192</td>\n",
       "      <td>192</td>\n",
       "      <td>192</td>\n",
       "      <td>0</td>\n",
       "    </tr>\n",
       "    <tr>\n",
       "      <th>10011</th>\n",
       "      <td>2</td>\n",
       "      <td>34</td>\n",
       "      <td>108</td>\n",
       "      <td>116</td>\n",
       "      <td>114</td>\n",
       "      <td>119</td>\n",
       "      <td>131</td>\n",
       "      <td>139</td>\n",
       "      <td>139</td>\n",
       "      <td>145</td>\n",
       "      <td>...</td>\n",
       "      <td>173</td>\n",
       "      <td>169</td>\n",
       "      <td>168</td>\n",
       "      <td>168</td>\n",
       "      <td>143</td>\n",
       "      <td>138</td>\n",
       "      <td>83</td>\n",
       "      <td>23</td>\n",
       "      <td>3</td>\n",
       "      <td>0</td>\n",
       "    </tr>\n",
       "    <tr>\n",
       "      <th>10012</th>\n",
       "      <td>122</td>\n",
       "      <td>154</td>\n",
       "      <td>162</td>\n",
       "      <td>170</td>\n",
       "      <td>179</td>\n",
       "      <td>197</td>\n",
       "      <td>200</td>\n",
       "      <td>195</td>\n",
       "      <td>202</td>\n",
       "      <td>199</td>\n",
       "      <td>...</td>\n",
       "      <td>221</td>\n",
       "      <td>215</td>\n",
       "      <td>205</td>\n",
       "      <td>187</td>\n",
       "      <td>209</td>\n",
       "      <td>198</td>\n",
       "      <td>187</td>\n",
       "      <td>164</td>\n",
       "      <td>156</td>\n",
       "      <td>0</td>\n",
       "    </tr>\n",
       "    <tr>\n",
       "      <th>10013</th>\n",
       "      <td>137</td>\n",
       "      <td>143</td>\n",
       "      <td>141</td>\n",
       "      <td>139</td>\n",
       "      <td>147</td>\n",
       "      <td>152</td>\n",
       "      <td>155</td>\n",
       "      <td>152</td>\n",
       "      <td>155</td>\n",
       "      <td>159</td>\n",
       "      <td>...</td>\n",
       "      <td>172</td>\n",
       "      <td>171</td>\n",
       "      <td>175</td>\n",
       "      <td>183</td>\n",
       "      <td>177</td>\n",
       "      <td>170</td>\n",
       "      <td>169</td>\n",
       "      <td>166</td>\n",
       "      <td>170</td>\n",
       "      <td>0</td>\n",
       "    </tr>\n",
       "    <tr>\n",
       "      <th>10014</th>\n",
       "      <td>149</td>\n",
       "      <td>157</td>\n",
       "      <td>157</td>\n",
       "      <td>152</td>\n",
       "      <td>151</td>\n",
       "      <td>152</td>\n",
       "      <td>154</td>\n",
       "      <td>163</td>\n",
       "      <td>149</td>\n",
       "      <td>145</td>\n",
       "      <td>...</td>\n",
       "      <td>159</td>\n",
       "      <td>154</td>\n",
       "      <td>145</td>\n",
       "      <td>106</td>\n",
       "      <td>67</td>\n",
       "      <td>62</td>\n",
       "      <td>103</td>\n",
       "      <td>146</td>\n",
       "      <td>148</td>\n",
       "      <td>6</td>\n",
       "    </tr>\n",
       "  </tbody>\n",
       "</table>\n",
       "<p>5 rows × 785 columns</p>\n",
       "</div>"
      ],
      "text/plain": [
       "       pixel0000  pixel0001  pixel0002  pixel0003  pixel0004  pixel0005  \\\n",
       "10010        172        171        173        175        164        187   \n",
       "10011          2         34        108        116        114        119   \n",
       "10012        122        154        162        170        179        197   \n",
       "10013        137        143        141        139        147        152   \n",
       "10014        149        157        157        152        151        152   \n",
       "\n",
       "       pixel0006  pixel0007  pixel0008  pixel0009  ...    pixel0775  \\\n",
       "10010        207        210        208        206  ...          210   \n",
       "10011        131        139        139        145  ...          173   \n",
       "10012        200        195        202        199  ...          221   \n",
       "10013        155        152        155        159  ...          172   \n",
       "10014        154        163        149        145  ...          159   \n",
       "\n",
       "       pixel0776  pixel0777  pixel0778  pixel0779  pixel0780  pixel0781  \\\n",
       "10010        217        221        209        185        187        192   \n",
       "10011        169        168        168        143        138         83   \n",
       "10012        215        205        187        209        198        187   \n",
       "10013        171        175        183        177        170        169   \n",
       "10014        154        145        106         67         62        103   \n",
       "\n",
       "       pixel0782  pixel0783  label  \n",
       "10010        192        192      0  \n",
       "10011         23          3      0  \n",
       "10012        164        156      0  \n",
       "10013        166        170      0  \n",
       "10014        146        148      6  \n",
       "\n",
       "[5 rows x 785 columns]"
      ]
     },
     "execution_count": 5,
     "metadata": {},
     "output_type": "execute_result"
    }
   ],
   "source": [
    "df_28.tail()"
   ]
  },
  {
   "cell_type": "code",
   "execution_count": 6,
   "metadata": {},
   "outputs": [
    {
     "name": "stdout",
     "output_type": "stream",
     "text": [
      "<class 'pandas.core.frame.DataFrame'>\n",
      "RangeIndex: 10015 entries, 0 to 10014\n",
      "Columns: 785 entries, pixel0000 to label\n",
      "dtypes: int64(785)\n",
      "memory usage: 60.0 MB\n"
     ]
    }
   ],
   "source": [
    "df_28.info()"
   ]
  },
  {
   "cell_type": "markdown",
   "metadata": {},
   "source": [
    "## Show data as image, just for visualization"
   ]
  },
  {
   "cell_type": "code",
   "execution_count": 30,
   "metadata": {},
   "outputs": [],
   "source": [
    "df_28_image = df_28.drop('label', axis = 1)"
   ]
  },
  {
   "cell_type": "code",
   "execution_count": 31,
   "metadata": {},
   "outputs": [],
   "source": [
    "df_28_image = df_28_image.values.reshape(-1, 28, 28)"
   ]
  },
  {
   "cell_type": "code",
   "execution_count": 32,
   "metadata": {},
   "outputs": [
    {
     "data": {
      "text/plain": [
       "(10015, 28, 28)"
      ]
     },
     "execution_count": 32,
     "metadata": {},
     "output_type": "execute_result"
    }
   ],
   "source": [
    "df_28_image.shape"
   ]
  },
  {
   "cell_type": "code",
   "execution_count": 35,
   "metadata": {},
   "outputs": [
    {
     "data": {
      "text/plain": [
       "<matplotlib.image.AxesImage at 0x1315d6898>"
      ]
     },
     "execution_count": 35,
     "metadata": {},
     "output_type": "execute_result"
    },
    {
     "data": {
      "image/png": "[encoded data removed]",
      "text/plain": [
       "<Figure size 432x288 with 1 Axes>"
      ]
     },
     "metadata": {
      "needs_background": "light"
     },
     "output_type": "display_data"
    }
   ],
   "source": [
    "plt.imshow(df_28_image[8])"
   ]
  },
  {
   "cell_type": "markdown",
   "metadata": {},
   "source": [
    "## Data preparation"
   ]
  },
  {
   "cell_type": "code",
   "execution_count": 137,
   "metadata": {},
   "outputs": [],
   "source": [
    "X = df_28.drop('label', axis = 1).values\n",
    "Y = df_28[['label']].values"
   ]
  },
  {
   "cell_type": "code",
   "execution_count": 138,
   "metadata": {},
   "outputs": [],
   "source": [
    "X_train, X_test, y_train, y_test = train_test_split(X, Y, random_state = 0, test_size = 0.25)"
   ]
  },
  {
   "cell_type": "code",
   "execution_count": 139,
   "metadata": {},
   "outputs": [
    {
     "name": "stderr",
     "output_type": "stream",
     "text": [
      "/Users/axelschweiss/anaconda3/lib/python3.7/site-packages/sklearn/utils/validation.py:595: DataConversionWarning: Data with input dtype int64 was converted to float64 by StandardScaler.\n",
      "  warnings.warn(msg, DataConversionWarning)\n",
      "/Users/axelschweiss/anaconda3/lib/python3.7/site-packages/sklearn/utils/validation.py:595: DataConversionWarning: Data with input dtype int64 was converted to float64 by StandardScaler.\n",
      "  warnings.warn(msg, DataConversionWarning)\n",
      "/Users/axelschweiss/anaconda3/lib/python3.7/site-packages/sklearn/utils/validation.py:595: DataConversionWarning: Data with input dtype int64 was converted to float64 by StandardScaler.\n",
      "  warnings.warn(msg, DataConversionWarning)\n"
     ]
    }
   ],
   "source": [
    "scaler = StandardScaler()\n",
    "scaler.fit(X_train)\n",
    "X_train = scaler.transform(X_train)\n",
    "X_test = scaler.transform(X_test)"
   ]
  },
  {
   "cell_type": "code",
   "execution_count": 140,
   "metadata": {},
   "outputs": [],
   "source": [
    "X_train_3D = X_train.reshape((-1, 28, 28, 1))\n",
    "X_test_3D = X_test.reshape((-1, 28, 28, 1))"
   ]
  },
  {
   "cell_type": "code",
   "execution_count": 141,
   "metadata": {},
   "outputs": [
    {
     "data": {
      "text/plain": [
       "7"
      ]
     },
     "execution_count": 141,
     "metadata": {},
     "output_type": "execute_result"
    }
   ],
   "source": [
    "anz_klassen = df_28['label'].nunique()\n",
    "anz_klassen"
   ]
  },
  {
   "cell_type": "markdown",
   "metadata": {},
   "source": [
    "## CNN Model in Keras"
   ]
  },
  {
   "cell_type": "code",
   "execution_count": 151,
   "metadata": {},
   "outputs": [
    {
     "name": "stdout",
     "output_type": "stream",
     "text": [
      "_________________________________________________________________\n",
      "Layer (type)                 Output Shape              Param #   \n",
      "=================================================================\n",
      "dense_48 (Dense)             (None, 28, 28, 14)        28        \n",
      "_________________________________________________________________\n",
      "conv2d_78 (Conv2D)           (None, 26, 26, 28)        3556      \n",
      "_________________________________________________________________\n",
      "max_pooling2d_42 (MaxPooling (None, 13, 13, 28)        0         \n",
      "_________________________________________________________________\n",
      "conv2d_79 (Conv2D)           (None, 9, 9, 56)          39256     \n",
      "_________________________________________________________________\n",
      "flatten_36 (Flatten)         (None, 4536)              0         \n",
      "_________________________________________________________________\n",
      "dense_49 (Dense)             (None, 7)                 31759     \n",
      "=================================================================\n",
      "Total params: 74,599\n",
      "Trainable params: 74,599\n",
      "Non-trainable params: 0\n",
      "_________________________________________________________________\n"
     ]
    }
   ],
   "source": [
    "model = Sequential()\n",
    "model.add(Dense(units=14, activation='relu', input_shape=(28,28,1)))\n",
    "#model.add(Conv2D(16, (3,3), input_shape=(28,28,1), activation='relu'))\n",
    "model.add(Conv2D(28, (3,3), activation='relu'))\n",
    "model.add(MaxPooling2D(2,2))\n",
    "model.add(Conv2D(56, (5,5), activation='relu'))\n",
    "#model.add(MaxPooling2D(2,2))\n",
    "#model.add(Conv2D(20, (3,3), activation='relu'))\n",
    "model.add(Flatten())\n",
    "model.add(Dense(units=anz_klassen, activation='softmax'))\n",
    "\n",
    "model.compile(optimizer='SGD', loss='sparse_categorical_crossentropy', metrics=['accuracy'])\n",
    "\n",
    "model.summary()"
   ]
  },
  {
   "cell_type": "code",
   "execution_count": 152,
   "metadata": {},
   "outputs": [
    {
     "name": "stdout",
     "output_type": "stream",
     "text": [
      "Train on 7511 samples, validate on 2504 samples\n",
      "Epoch 1/10\n",
      "7511/7511 [==============================] - 11s 1ms/step - loss: 1.0844 - acc: 0.6646 - val_loss: 1.0563 - val_acc: 0.6466\n",
      "Epoch 2/10\n",
      "7511/7511 [==============================] - 10s 1ms/step - loss: 0.9870 - acc: 0.6749 - val_loss: 0.9758 - val_acc: 0.6729\n",
      "Epoch 3/10\n",
      "7511/7511 [==============================] - 10s 1ms/step - loss: 0.9424 - acc: 0.6826 - val_loss: 0.9822 - val_acc: 0.6705\n",
      "Epoch 4/10\n",
      "7511/7511 [==============================] - 10s 1ms/step - loss: 0.9132 - acc: 0.6915 - val_loss: 0.9456 - val_acc: 0.6813\n",
      "Epoch 5/10\n",
      "7511/7511 [==============================] - 9s 1ms/step - loss: 0.8888 - acc: 0.6982 - val_loss: 0.9031 - val_acc: 0.6857\n",
      "Epoch 6/10\n",
      "7511/7511 [==============================] - 9s 1ms/step - loss: 0.8639 - acc: 0.7010 - val_loss: 0.9115 - val_acc: 0.6933\n",
      "Epoch 7/10\n",
      "7511/7511 [==============================] - 9s 1ms/step - loss: 0.8498 - acc: 0.7102 - val_loss: 0.9230 - val_acc: 0.6853\n",
      "Epoch 8/10\n",
      "7511/7511 [==============================] - 9s 1ms/step - loss: 0.8320 - acc: 0.7118 - val_loss: 0.9066 - val_acc: 0.6965\n",
      "Epoch 9/10\n",
      "7511/7511 [==============================] - 9s 1ms/step - loss: 0.8146 - acc: 0.7163 - val_loss: 0.8765 - val_acc: 0.6973\n",
      "Epoch 10/10\n",
      "7511/7511 [==============================] - 9s 1ms/step - loss: 0.8011 - acc: 0.7243 - val_loss: 0.9195 - val_acc: 0.6921\n"
     ]
    }
   ],
   "source": [
    "history = model.fit(X_train_3D, y_train, epochs=10, batch_size=16, validation_data=(X_test_3D, y_test))"
   ]
  },
  {
   "cell_type": "markdown",
   "metadata": {},
   "source": [
    "## Show history"
   ]
  },
  {
   "cell_type": "code",
   "execution_count": 153,
   "metadata": {},
   "outputs": [
    {
     "data": {
      "text/plain": [
       "<matplotlib.legend.Legend at 0x13b6a46d8>"
      ]
     },
     "execution_count": 153,
     "metadata": {},
     "output_type": "execute_result"
    },
    {
     "data": {
      "image/png": "[encoded data removed]",
      "text/plain": [
       "<Figure size 432x288 with 1 Axes>"
      ]
     },
     "metadata": {
      "needs_background": "light"
     },
     "output_type": "display_data"
    }
   ],
   "source": [
    "acc_train = history.history['acc']\n",
    "acc_test = history.history['val_acc']\n",
    "\n",
    "x_achse = list(range(len(acc_train)))\n",
    "\n",
    "plt.plot(x_achse, acc_train, label='train')\n",
    "plt.plot(x_achse, acc_test, label='test')\n",
    "plt.legend()"
   ]
  }
 ],
 "metadata": {
  "kernelspec": {
   "display_name": "Python 3",
   "language": "python",
   "name": "python3"
  },
  "language_info": {
   "codemirror_mode": {
    "name": "ipython",
    "version": 3
   },
   "file_extension": ".py",
   "mimetype": "text/x-python",
   "name": "python",
   "nbconvert_exporter": "python",
   "pygments_lexer": "ipython3",
   "version": "3.7.0"
  }
 },
 "nbformat": 4,
 "nbformat_minor": 2
}
